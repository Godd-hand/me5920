{
 "cells": [
  {
   "cell_type": "code",
   "execution_count": 2,
   "id": "6d92ae76-e4c8-4c6c-b57e-b3b8e20a2bd6",
   "metadata": {},
   "outputs": [
    {
     "ename": "ValueError",
     "evalue": "cannot reshape array of size 1839 into shape (17,12,3,3)",
     "output_type": "error",
     "traceback": [
      "\u001b[0;31m---------------------------------------------------------------------------\u001b[0m",
      "\u001b[0;31mValueError\u001b[0m                                Traceback (most recent call last)",
      "Cell \u001b[0;32mIn[2], line 60\u001b[0m\n\u001b[1;32m     58\u001b[0m \u001b[38;5;66;03m# Example usage\u001b[39;00m\n\u001b[1;32m     59\u001b[0m base_directory \u001b[38;5;241m=\u001b[39m \u001b[38;5;124m\"\u001b[39m\u001b[38;5;124m/home/exouser/ml_me5920/Assignment_2/DM/data\u001b[39m\u001b[38;5;124m\"\u001b[39m  \u001b[38;5;66;03m# Change this to your actual directory\u001b[39;00m\n\u001b[0;32m---> 60\u001b[0m input_geometry, temp_array, press_array, output_80, output_140 \u001b[38;5;241m=\u001b[39m \u001b[43mload_data\u001b[49m\u001b[43m(\u001b[49m\u001b[43mbase_directory\u001b[49m\u001b[43m)\u001b[49m\n\u001b[1;32m     62\u001b[0m \u001b[38;5;66;03m# Construct Ordered Pairs\u001b[39;00m\n\u001b[1;32m     63\u001b[0m ordered_pairs \u001b[38;5;241m=\u001b[39m []\n",
      "Cell \u001b[0;32mIn[2], line 44\u001b[0m, in \u001b[0;36mload_data\u001b[0;34m(base_path)\u001b[0m\n\u001b[1;32m     41\u001b[0m result_file \u001b[38;5;241m=\u001b[39m os\u001b[38;5;241m.\u001b[39mpath\u001b[38;5;241m.\u001b[39mjoin(final_geometry_path, \u001b[38;5;124mf\u001b[39m\u001b[38;5;124m\"\u001b[39m\u001b[38;5;124mresult_\u001b[39m\u001b[38;5;132;01m{\u001b[39;00mtstep\u001b[38;5;132;01m}\u001b[39;00m\u001b[38;5;124m_t\u001b[39m\u001b[38;5;132;01m{\u001b[39;00m(run_id\u001b[38;5;241m-\u001b[39m\u001b[38;5;241m1\u001b[39m)\u001b[38;5;241m%\u001b[39m\u001b[38;5;241m5\u001b[39m\u001b[38;5;241m+\u001b[39m\u001b[38;5;241m1\u001b[39m\u001b[38;5;132;01m}\u001b[39;00m\u001b[38;5;124m_p\u001b[39m\u001b[38;5;132;01m{\u001b[39;00m((run_id\u001b[38;5;241m-\u001b[39m\u001b[38;5;241m1\u001b[39m)\u001b[38;5;241m/\u001b[39m\u001b[38;5;241m/\u001b[39m\u001b[38;5;241m5\u001b[39m)\u001b[38;5;241m%\u001b[39m\u001b[38;5;241m3\u001b[39m\u001b[38;5;241m+\u001b[39m\u001b[38;5;241m1\u001b[39m\u001b[38;5;132;01m}\u001b[39;00m\u001b[38;5;124m_\u001b[39m\u001b[38;5;132;01m{\u001b[39;00mrun_id\u001b[38;5;132;01m}\u001b[39;00m\u001b[38;5;124m\"\u001b[39m)\n\u001b[1;32m     43\u001b[0m \u001b[38;5;28;01mif\u001b[39;00m os\u001b[38;5;241m.\u001b[39mpath\u001b[38;5;241m.\u001b[39mexists(result_file):\n\u001b[0;32m---> 44\u001b[0m     deformation \u001b[38;5;241m=\u001b[39m \u001b[43mnp\u001b[49m\u001b[38;5;241;43m.\u001b[39;49m\u001b[43mloadtxt\u001b[49m\u001b[43m(\u001b[49m\u001b[43mresult_file\u001b[49m\u001b[43m)\u001b[49m\u001b[38;5;241;43m.\u001b[39;49m\u001b[43mreshape\u001b[49m\u001b[43m(\u001b[49m\u001b[43m(\u001b[49m\u001b[38;5;241;43m17\u001b[39;49m\u001b[43m,\u001b[49m\u001b[43m \u001b[49m\u001b[38;5;241;43m12\u001b[39;49m\u001b[43m,\u001b[49m\u001b[43m \u001b[49m\u001b[38;5;241;43m3\u001b[39;49m\u001b[43m,\u001b[49m\u001b[43m \u001b[49m\u001b[38;5;241;43m3\u001b[39;49m\u001b[43m)\u001b[49m\u001b[43m)\u001b[49m\n\u001b[1;32m     45\u001b[0m     \u001b[38;5;28;01mif\u001b[39;00m tstep \u001b[38;5;241m==\u001b[39m \u001b[38;5;241m80\u001b[39m:\n\u001b[1;32m     46\u001b[0m         output_data_80\u001b[38;5;241m.\u001b[39mappend(deformation)\n",
      "\u001b[0;31mValueError\u001b[0m: cannot reshape array of size 1839 into shape (17,12,3,3)"
     ]
    }
   ],
   "source": [
    "import os\n",
    "import numpy as np\n",
    "\n",
    "def parse_smesh(file_path):\n",
    "    \"\"\"Parse smesh file, skipping first 5 lines and last line, and ignoring the fourth column.\"\"\"\n",
    "    with open(file_path, 'r') as f:\n",
    "        lines = f.readlines()[5:-1]  # Skip first 5 lines and last line\n",
    "    \n",
    "    # Convert to float while ignoring the fourth column\n",
    "    data = np.array([list(map(float, line.split()[:3])) for line in lines])\n",
    "    return data.reshape((17, 12, 3))\n",
    "\n",
    "def load_data(base_path):\n",
    "    \"\"\"Load and process input geometries and final geometry results.\"\"\"\n",
    "    input_geometry_path = os.path.join(base_path, \"Input_geometry\")\n",
    "    final_geometry_path = os.path.join(base_path, \"final_geometry\")\n",
    "    \n",
    "    input_data, temp_data, press_data = [], [], []\n",
    "    output_data_80, output_data_140, labels = [], [], []\n",
    "    \n",
    "    # Load input geometries\n",
    "    for run_id in range(1, 65):  # Runs are from run1 to run64\n",
    "        run_dir = os.path.join(input_geometry_path, f\"run{run_id}\")\n",
    "        smesh_files = [os.path.join(run_dir, f\"smesh.1.{i}.txt\") for i in range(1, 4)]\n",
    "        \n",
    "        if all(os.path.exists(f) for f in smesh_files):\n",
    "            input_geometry = np.stack([parse_smesh(f) for f in smesh_files], axis=-1)  # Shape (17,12,3)\n",
    "            input_data.append(input_geometry)\n",
    "            \n",
    "            # Extract temperature and pressure from file name\n",
    "            temp_index = (run_id - 1) % 5 + 1  # Temperature index (1 to 5)\n",
    "            press_index = ((run_id - 1) // 5) % 3 + 1  # Pressure index (1 to 3)\n",
    "            temp_data.append(temp_index)\n",
    "            press_data.append(press_index)\n",
    "        else:\n",
    "            print(f\"Warning: Missing smesh files in {run_dir}. Skipping...\")\n",
    "    \n",
    "    # Load final geometry results\n",
    "    for run_id in range(1, 65):\n",
    "        for tstep in [80, 140]:\n",
    "            result_file = os.path.join(final_geometry_path, f\"result_{tstep}_t{(run_id-1)%5+1}_p{((run_id-1)//5)%3+1}_{run_id}\")\n",
    "            \n",
    "            if os.path.exists(result_file):\n",
    "                deformation = np.loadtxt(result_file).reshape((17, 12, 3, 3))\n",
    "                if tstep == 80:\n",
    "                    output_data_80.append(deformation)\n",
    "                else:\n",
    "                    output_data_140.append(deformation)\n",
    "            else:\n",
    "                print(f\"Warning: Missing result file {result_file}. Skipping...\")\n",
    "                if tstep == 80:\n",
    "                    output_data_80.append(np.zeros((17, 12, 3)))\n",
    "                else:\n",
    "                    output_data_140.append(np.zeros((17, 12, 3)))\n",
    "    \n",
    "    return np.array(input_data), np.array(temp_data), np.array(press_data), np.array(output_data_80), np.array(output_data_140)\n",
    "\n",
    "# Example usage\n",
    "base_directory = \"/home/exouser/ml_me5920/Assignment_2/DM/data\"  # Change this to your actual directory\n",
    "input_geometry, temp_array, press_array, output_80, output_140 = load_data(base_directory)\n",
    "\n",
    "# Construct Ordered Pairs\n",
    "ordered_pairs = []\n",
    "for idx in range(len(input_geometry)):\n",
    "    input_tuple = (input_geometry[idx], np.array([temp_array[idx]]), np.array([press_array[idx]]))\n",
    "    output_80_pair = (input_tuple, output_80[idx])\n",
    "    output_140_pair = (input_tuple, output_140[idx])\n",
    "    ordered_pairs.append(output_80_pair)\n",
    "    ordered_pairs.append(output_140_pair)\n",
    "\n",
    "# Print example pair\n",
    "example_pair = ordered_pairs[0]\n",
    "print(\"Input shapes:\", [x.shape for x in example_pair[0]], \"Output shape:\", example_pair[1].shape)\n"
   ]
  },
  {
   "cell_type": "code",
   "execution_count": null,
   "id": "e1fd55bf-92ac-47df-b10f-ba284bf3b93d",
   "metadata": {},
   "outputs": [],
   "source": []
  }
 ],
 "metadata": {
  "kernelspec": {
   "display_name": "me592",
   "language": "python",
   "name": "me592"
  },
  "language_info": {
   "codemirror_mode": {
    "name": "ipython",
    "version": 3
   },
   "file_extension": ".py",
   "mimetype": "text/x-python",
   "name": "python",
   "nbconvert_exporter": "python",
   "pygments_lexer": "ipython3",
   "version": "3.10.16"
  }
 },
 "nbformat": 4,
 "nbformat_minor": 5
}
